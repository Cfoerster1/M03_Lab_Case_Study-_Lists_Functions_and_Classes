{
 "cells": [
  {
   "cell_type": "code",
   "execution_count": 1,
   "id": "3a43186e",
   "metadata": {},
   "outputs": [
    {
     "name": "stdout",
     "output_type": "stream",
     "text": [
      "Enter the year of the car: 2022\n",
      "Enter the make of the car: Toyota\n",
      "Enter the model of the car: Corolla\n",
      "Enter the number of doors (2 or 4): 4\n",
      "Enter the type of roof (solid or sun roof): sun roof\n",
      "Vehicle type: car\n",
      "Year: 2022\n",
      "Make: Toyota\n",
      "Model: Corolla\n",
      "Number of doors: 4\n",
      "Type of roof: sun roof\n"
     ]
    }
   ],
   "source": [
    "#Program name: Vehicle.py\n",
    "#Author: Cody Foerster\n",
    "#Date last updated: 2/2/2023\n",
    "#Purpose: Accept and print user input for\n",
    "# a vehicle class\n",
    "\n",
    "\n",
    "#Vehicle Class Definition\n",
    "class Vehicle:\n",
    "    def __init__(self, v_type):\n",
    "        self.v_type = v_type\n",
    "\n",
    "#Automobile Class Definition\n",
    "class Automobile(Vehicle):\n",
    "    def __init__(self, year, make, model, doors, roof, v_type='car'):\n",
    "        Vehicle.__init__(self, v_type)\n",
    "        self.year = year\n",
    "        self.make = make\n",
    "        self.model = model\n",
    "        self.doors = doors\n",
    "        self.roof = roof\n",
    "\n",
    "#Prompt user for input\n",
    "car = Automobile(\n",
    "    year=input(\"Enter the year of the car: \"),\n",
    "    make=input(\"Enter the make of the car: \"),\n",
    "    model=input(\"Enter the model of the car: \"),\n",
    "    doors=input(\"Enter the number of doors (2 or 4): \"),\n",
    "    roof=input(\"Enter the type of roof (solid or sun roof): \")\n",
    ")\n",
    "\n",
    "#Print user's input\n",
    "print(\"Vehicle type:\", car.v_type)\n",
    "print(\"Year:\", car.year)\n",
    "print(\"Make:\", car.make)\n",
    "print(\"Model:\", car.model)\n",
    "print(\"Number of doors:\", car.doors)\n",
    "print(\"Type of roof:\", car.roof)"
   ]
  }
 ],
 "metadata": {
  "kernelspec": {
   "display_name": "Python 3 (ipykernel)",
   "language": "python",
   "name": "python3"
  },
  "language_info": {
   "codemirror_mode": {
    "name": "ipython",
    "version": 3
   },
   "file_extension": ".py",
   "mimetype": "text/x-python",
   "name": "python",
   "nbconvert_exporter": "python",
   "pygments_lexer": "ipython3",
   "version": "3.9.13"
  }
 },
 "nbformat": 4,
 "nbformat_minor": 5
}
